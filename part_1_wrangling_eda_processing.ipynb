{
 "cells": [
  {
   "cell_type": "markdown",
   "metadata": {},
   "source": [
    "# Sentiment Analysis Using Twitter Data"
   ]
  },
  {
   "cell_type": "markdown",
   "metadata": {},
   "source": [
    "## Libraries"
   ]
  },
  {
   "cell_type": "code",
   "execution_count": 7,
   "metadata": {
    "_cell_guid": "b1076dfc-b9ad-4769-8c92-a6c4dae69d19",
    "_uuid": "8f2839f25d086af736a60e9eeb907d3b93b6e0e5"
   },
   "outputs": [],
   "source": [
    "# General imports\n",
    "import re\n",
    "import pickle\n",
    "import pandas as pd\n",
    "import time\n",
    "\n",
    "# Plotting imports\n",
    "import seaborn as sns\n",
    "from wordcloud import WordCloud\n",
    "import matplotlib.pyplot as plt\n",
    "\n",
    "# Warnings imports\n",
    "import warnings\n",
    "warnings.filterwarnings(\"ignore\")\n",
    "\n",
    "# Nltk imports\n",
    "import nltk\n",
    "from nltk.stem import WordNetLemmatizer\n",
    "\n",
    "# Sklearn imports\n",
    "from sklearn.model_selection import train_test_split\n",
    "from sklearn.feature_extraction.text import TfidfVectorizer"
   ]
  },
  {
   "cell_type": "markdown",
   "metadata": {},
   "source": [
    "## Helper function(s)"
   ]
  },
  {
   "cell_type": "markdown",
   "metadata": {},
   "source": [
    "**There are 2 helper functions:**\n",
    "\n",
    "- A **barrier** function that prints a horizontal line to separate printed outputs.\n",
    "- A **decontracted_all** function that uses regex to replace all contractions with their corresponding **expanded** form.\n",
    "    - Note that the [**'s**] contraction can indicate possession **(eg The book is John's)** or be a contraction of the long-form **word + has/is** **(eg He's a good guy)**.\n",
    "    - This can create a small error where possession is concerned since an expression like \"**The book is John's**\" will be turned into \"**The book is John has/is**\".\n",
    "    - However, we accept this small error while text processing as it does not adversely affect sentiment and we expect the model to be robust enough to deal with it."
   ]
  },
  {
   "cell_type": "code",
   "execution_count": 8,
   "metadata": {},
   "outputs": [],
   "source": [
    "# Barrier function\n",
    "def barrier():\n",
    "    print(\"\\n <<<\",\"-\"*50,\">>> \\n\")\n",
    "\n",
    "# Contraction substitution function\n",
    "def decontracted_all(phrase):\n",
    "    phrase = re.sub(r\"(can't)|(cant)\", \"can not\", phrase)\n",
    "    phrase = re.sub(r\"(won't)|(wont)\", \"will not\", phrase)\n",
    "    phrase = re.sub(r\"n't\", \" not\", phrase)\n",
    "    phrase = re.sub(r\"'re\", \" are\", phrase)\n",
    "    phrase = re.sub(r\"'s\", \" is\", phrase)\n",
    "    phrase = re.sub(r\"'d\", \" would\", phrase)\n",
    "    phrase = re.sub(r\"'ll\", \" will\", phrase)\n",
    "    phrase = re.sub(r\"'ve\", \" have\", phrase)\n",
    "    phrase = re.sub(r\"'m\", \" am\", phrase)\n",
    "    return phrase"
   ]
  },
  {
   "cell_type": "code",
   "execution_count": 9,
   "metadata": {
    "scrolled": true
   },
   "outputs": [
    {
     "data": {
      "text/plain": [
       "'do not, is not, will not, should not, could not, would not, are not, does not, was not, were not, has not,\\n                    have not, had not, must not, did not, might not, need not, John is'"
      ]
     },
     "execution_count": 9,
     "metadata": {},
     "output_type": "execute_result"
    }
   ],
   "source": [
    "# Example for decontracted_all\n",
    "decontracted_all(\"\"\"don't, isn't, won't, shouldn't, couldn't, wouldn't, aren't, doesn't, wasn't, weren't, hasn't,\n",
    "                    haven't, hadn't, mustn't, didn't, mightn't, needn't, John's\"\"\")"
   ]
  },
  {
   "cell_type": "markdown",
   "metadata": {},
   "source": [
    "**Note:**\n",
    "- The above example shows how the **decontracted_all** function works for all contractions in the English language."
   ]
  },
  {
   "cell_type": "markdown",
   "metadata": {},
   "source": [
    "## Data import\n",
    "**Introduction:**\n",
    "- The dataset being used is the **sentiment140 dataset**.\n",
    "- It contains 1,600,000 tweets extracted using the **Twitter API**.\n",
    "- The tweets have been annotated **(0 = Negative, 4 = Positive)** and they can be used to detect sentiment.\n",
    "\n",
    "**The dataset contains the following features:**\n",
    "1. **sentiment**: The polarity of the tweet: (0 = negative, 4 = positive).\n",
    "2. **ids**: The id of the tweet.\n",
    "3. **date**: The date of the tweet.\n",
    "4. **flag**: The query of the tweet. If there is no query, then this value is NO_QUERY.\n",
    "5. **user**: The user that tweeted.\n",
    "6. **text**: The text of the tweet.\n",
    "\n",
    "**Note:**\n",
    "- We require only the **sentiment** and **text** fields, so we can discard the other features.\n",
    "- Furthermore, we're changing the **sentiment** field so that it has new values to reflect the sentiment: (**0 = Negative, 1 = Positive**)\n",
    "- The data file is too large to upload to the GitHub repository but is available at https://www.kaggle.com/datasets/kazanova/sentiment140"
   ]
  },
  {
   "cell_type": "code",
   "execution_count": 10,
   "metadata": {},
   "outputs": [
    {
     "data": {
      "text/html": [
       "<div>\n",
       "<style scoped>\n",
       "    .dataframe tbody tr th:only-of-type {\n",
       "        vertical-align: middle;\n",
       "    }\n",
       "\n",
       "    .dataframe tbody tr th {\n",
       "        vertical-align: top;\n",
       "    }\n",
       "\n",
       "    .dataframe thead th {\n",
       "        text-align: right;\n",
       "    }\n",
       "</style>\n",
       "<table border=\"1\" class=\"dataframe\">\n",
       "  <thead>\n",
       "    <tr style=\"text-align: right;\">\n",
       "      <th></th>\n",
       "      <th>sentiment</th>\n",
       "      <th>ids</th>\n",
       "      <th>date</th>\n",
       "      <th>flag</th>\n",
       "      <th>user</th>\n",
       "      <th>text</th>\n",
       "    </tr>\n",
       "  </thead>\n",
       "  <tbody>\n",
       "    <tr>\n",
       "      <th>0</th>\n",
       "      <td>0</td>\n",
       "      <td>1467810369</td>\n",
       "      <td>Mon Apr 06 22:19:45 PDT 2009</td>\n",
       "      <td>NO_QUERY</td>\n",
       "      <td>_TheSpecialOne_</td>\n",
       "      <td>@switchfoot http://twitpic.com/2y1zl - Awww, t...</td>\n",
       "    </tr>\n",
       "    <tr>\n",
       "      <th>1</th>\n",
       "      <td>0</td>\n",
       "      <td>1467810672</td>\n",
       "      <td>Mon Apr 06 22:19:49 PDT 2009</td>\n",
       "      <td>NO_QUERY</td>\n",
       "      <td>scotthamilton</td>\n",
       "      <td>is upset that he can't update his Facebook by ...</td>\n",
       "    </tr>\n",
       "    <tr>\n",
       "      <th>2</th>\n",
       "      <td>0</td>\n",
       "      <td>1467810917</td>\n",
       "      <td>Mon Apr 06 22:19:53 PDT 2009</td>\n",
       "      <td>NO_QUERY</td>\n",
       "      <td>mattycus</td>\n",
       "      <td>@Kenichan I dived many times for the ball. Man...</td>\n",
       "    </tr>\n",
       "    <tr>\n",
       "      <th>3</th>\n",
       "      <td>0</td>\n",
       "      <td>1467811184</td>\n",
       "      <td>Mon Apr 06 22:19:57 PDT 2009</td>\n",
       "      <td>NO_QUERY</td>\n",
       "      <td>ElleCTF</td>\n",
       "      <td>my whole body feels itchy and like its on fire</td>\n",
       "    </tr>\n",
       "    <tr>\n",
       "      <th>4</th>\n",
       "      <td>0</td>\n",
       "      <td>1467811193</td>\n",
       "      <td>Mon Apr 06 22:19:57 PDT 2009</td>\n",
       "      <td>NO_QUERY</td>\n",
       "      <td>Karoli</td>\n",
       "      <td>@nationwideclass no, it's not behaving at all....</td>\n",
       "    </tr>\n",
       "    <tr>\n",
       "      <th>5</th>\n",
       "      <td>0</td>\n",
       "      <td>1467811372</td>\n",
       "      <td>Mon Apr 06 22:20:00 PDT 2009</td>\n",
       "      <td>NO_QUERY</td>\n",
       "      <td>joy_wolf</td>\n",
       "      <td>@Kwesidei not the whole crew</td>\n",
       "    </tr>\n",
       "    <tr>\n",
       "      <th>6</th>\n",
       "      <td>0</td>\n",
       "      <td>1467811592</td>\n",
       "      <td>Mon Apr 06 22:20:03 PDT 2009</td>\n",
       "      <td>NO_QUERY</td>\n",
       "      <td>mybirch</td>\n",
       "      <td>Need a hug</td>\n",
       "    </tr>\n",
       "    <tr>\n",
       "      <th>7</th>\n",
       "      <td>0</td>\n",
       "      <td>1467811594</td>\n",
       "      <td>Mon Apr 06 22:20:03 PDT 2009</td>\n",
       "      <td>NO_QUERY</td>\n",
       "      <td>coZZ</td>\n",
       "      <td>@LOLTrish hey  long time no see! Yes.. Rains a...</td>\n",
       "    </tr>\n",
       "    <tr>\n",
       "      <th>8</th>\n",
       "      <td>0</td>\n",
       "      <td>1467811795</td>\n",
       "      <td>Mon Apr 06 22:20:05 PDT 2009</td>\n",
       "      <td>NO_QUERY</td>\n",
       "      <td>2Hood4Hollywood</td>\n",
       "      <td>@Tatiana_K nope they didn't have it</td>\n",
       "    </tr>\n",
       "    <tr>\n",
       "      <th>9</th>\n",
       "      <td>0</td>\n",
       "      <td>1467812025</td>\n",
       "      <td>Mon Apr 06 22:20:09 PDT 2009</td>\n",
       "      <td>NO_QUERY</td>\n",
       "      <td>mimismo</td>\n",
       "      <td>@twittera que me muera ?</td>\n",
       "    </tr>\n",
       "  </tbody>\n",
       "</table>\n",
       "</div>"
      ],
      "text/plain": [
       "   sentiment         ids                          date      flag  \\\n",
       "0          0  1467810369  Mon Apr 06 22:19:45 PDT 2009  NO_QUERY   \n",
       "1          0  1467810672  Mon Apr 06 22:19:49 PDT 2009  NO_QUERY   \n",
       "2          0  1467810917  Mon Apr 06 22:19:53 PDT 2009  NO_QUERY   \n",
       "3          0  1467811184  Mon Apr 06 22:19:57 PDT 2009  NO_QUERY   \n",
       "4          0  1467811193  Mon Apr 06 22:19:57 PDT 2009  NO_QUERY   \n",
       "5          0  1467811372  Mon Apr 06 22:20:00 PDT 2009  NO_QUERY   \n",
       "6          0  1467811592  Mon Apr 06 22:20:03 PDT 2009  NO_QUERY   \n",
       "7          0  1467811594  Mon Apr 06 22:20:03 PDT 2009  NO_QUERY   \n",
       "8          0  1467811795  Mon Apr 06 22:20:05 PDT 2009  NO_QUERY   \n",
       "9          0  1467812025  Mon Apr 06 22:20:09 PDT 2009  NO_QUERY   \n",
       "\n",
       "              user                                               text  \n",
       "0  _TheSpecialOne_  @switchfoot http://twitpic.com/2y1zl - Awww, t...  \n",
       "1    scotthamilton  is upset that he can't update his Facebook by ...  \n",
       "2         mattycus  @Kenichan I dived many times for the ball. Man...  \n",
       "3          ElleCTF    my whole body feels itchy and like its on fire   \n",
       "4           Karoli  @nationwideclass no, it's not behaving at all....  \n",
       "5         joy_wolf                      @Kwesidei not the whole crew   \n",
       "6          mybirch                                        Need a hug   \n",
       "7             coZZ  @LOLTrish hey  long time no see! Yes.. Rains a...  \n",
       "8  2Hood4Hollywood               @Tatiana_K nope they didn't have it   \n",
       "9          mimismo                          @twittera que me muera ?   "
      ]
     },
     "execution_count": 10,
     "metadata": {},
     "output_type": "execute_result"
    }
   ],
   "source": [
    "# Data import\n",
    "df_COLUMNS  = [\"sentiment\", \"ids\", \"date\", \"flag\", \"user\", \"text\"]\n",
    "df_ENCODING = \"ISO-8859-1\"\n",
    "# The path should be adjusted as needed to point to the csv file\n",
    "df = pd.read_csv(\"data/data.csv\", encoding=df_ENCODING , names=df_COLUMNS)\n",
    "df.head(10)"
   ]
  },
  {
   "cell_type": "code",
   "execution_count": 11,
   "metadata": {},
   "outputs": [
    {
     "data": {
      "text/html": [
       "<div>\n",
       "<style scoped>\n",
       "    .dataframe tbody tr th:only-of-type {\n",
       "        vertical-align: middle;\n",
       "    }\n",
       "\n",
       "    .dataframe tbody tr th {\n",
       "        vertical-align: top;\n",
       "    }\n",
       "\n",
       "    .dataframe thead th {\n",
       "        text-align: right;\n",
       "    }\n",
       "</style>\n",
       "<table border=\"1\" class=\"dataframe\">\n",
       "  <thead>\n",
       "    <tr style=\"text-align: right;\">\n",
       "      <th></th>\n",
       "      <th>sentiment</th>\n",
       "      <th>ids</th>\n",
       "      <th>date</th>\n",
       "      <th>flag</th>\n",
       "      <th>user</th>\n",
       "      <th>text</th>\n",
       "    </tr>\n",
       "  </thead>\n",
       "  <tbody>\n",
       "    <tr>\n",
       "      <th>0</th>\n",
       "      <td>4</td>\n",
       "      <td>2051222175</td>\n",
       "      <td>Fri Jun 05 21:11:49 PDT 2009</td>\n",
       "      <td>NO_QUERY</td>\n",
       "      <td>achitnis</td>\n",
       "      <td>@aarthir Ah! Thanks for reminding me</td>\n",
       "    </tr>\n",
       "    <tr>\n",
       "      <th>1</th>\n",
       "      <td>0</td>\n",
       "      <td>2000976262</td>\n",
       "      <td>Mon Jun 01 23:29:07 PDT 2009</td>\n",
       "      <td>NO_QUERY</td>\n",
       "      <td>thisisjodez</td>\n",
       "      <td>is SAD!!</td>\n",
       "    </tr>\n",
       "    <tr>\n",
       "      <th>2</th>\n",
       "      <td>4</td>\n",
       "      <td>2060580388</td>\n",
       "      <td>Sat Jun 06 19:10:24 PDT 2009</td>\n",
       "      <td>NO_QUERY</td>\n",
       "      <td>LianeGentrySkye</td>\n",
       "      <td>@TheresaStevens  Trey had a great time at the ...</td>\n",
       "    </tr>\n",
       "    <tr>\n",
       "      <th>3</th>\n",
       "      <td>4</td>\n",
       "      <td>1881329199</td>\n",
       "      <td>Fri May 22 04:20:21 PDT 2009</td>\n",
       "      <td>NO_QUERY</td>\n",
       "      <td>Nicola2012</td>\n",
       "      <td>@KidROO fine francis  i want to be out in this...</td>\n",
       "    </tr>\n",
       "    <tr>\n",
       "      <th>4</th>\n",
       "      <td>0</td>\n",
       "      <td>2013970142</td>\n",
       "      <td>Wed Jun 03 00:05:10 PDT 2009</td>\n",
       "      <td>NO_QUERY</td>\n",
       "      <td>lizz_xx</td>\n",
       "      <td>@sarahz_xx did you get the sunnies ? idk if yo...</td>\n",
       "    </tr>\n",
       "    <tr>\n",
       "      <th>5</th>\n",
       "      <td>0</td>\n",
       "      <td>2181274616</td>\n",
       "      <td>Mon Jun 15 11:36:20 PDT 2009</td>\n",
       "      <td>NO_QUERY</td>\n",
       "      <td>drew91205</td>\n",
       "      <td>guess im single again</td>\n",
       "    </tr>\n",
       "    <tr>\n",
       "      <th>6</th>\n",
       "      <td>0</td>\n",
       "      <td>2068417201</td>\n",
       "      <td>Sun Jun 07 14:02:41 PDT 2009</td>\n",
       "      <td>NO_QUERY</td>\n",
       "      <td>_jas_</td>\n",
       "      <td>still has more chores to do.</td>\n",
       "    </tr>\n",
       "    <tr>\n",
       "      <th>7</th>\n",
       "      <td>4</td>\n",
       "      <td>2052897347</td>\n",
       "      <td>Sat Jun 06 02:27:27 PDT 2009</td>\n",
       "      <td>NO_QUERY</td>\n",
       "      <td>gidiboy4eva</td>\n",
       "      <td>@ OfficialRihanna  i gotta say you where looki...</td>\n",
       "    </tr>\n",
       "    <tr>\n",
       "      <th>8</th>\n",
       "      <td>0</td>\n",
       "      <td>1980334937</td>\n",
       "      <td>Sun May 31 06:26:22 PDT 2009</td>\n",
       "      <td>NO_QUERY</td>\n",
       "      <td>carekoba</td>\n",
       "      <td>@dawnieboi i miss you!  di kita naabutan online!</td>\n",
       "    </tr>\n",
       "    <tr>\n",
       "      <th>9</th>\n",
       "      <td>4</td>\n",
       "      <td>1996952864</td>\n",
       "      <td>Mon Jun 01 15:59:26 PDT 2009</td>\n",
       "      <td>NO_QUERY</td>\n",
       "      <td>CinnamonRoyalty</td>\n",
       "      <td>Off work</td>\n",
       "    </tr>\n",
       "  </tbody>\n",
       "</table>\n",
       "</div>"
      ],
      "text/plain": [
       "   sentiment         ids                          date      flag  \\\n",
       "0          4  2051222175  Fri Jun 05 21:11:49 PDT 2009  NO_QUERY   \n",
       "1          0  2000976262  Mon Jun 01 23:29:07 PDT 2009  NO_QUERY   \n",
       "2          4  2060580388  Sat Jun 06 19:10:24 PDT 2009  NO_QUERY   \n",
       "3          4  1881329199  Fri May 22 04:20:21 PDT 2009  NO_QUERY   \n",
       "4          0  2013970142  Wed Jun 03 00:05:10 PDT 2009  NO_QUERY   \n",
       "5          0  2181274616  Mon Jun 15 11:36:20 PDT 2009  NO_QUERY   \n",
       "6          0  2068417201  Sun Jun 07 14:02:41 PDT 2009  NO_QUERY   \n",
       "7          4  2052897347  Sat Jun 06 02:27:27 PDT 2009  NO_QUERY   \n",
       "8          0  1980334937  Sun May 31 06:26:22 PDT 2009  NO_QUERY   \n",
       "9          4  1996952864  Mon Jun 01 15:59:26 PDT 2009  NO_QUERY   \n",
       "\n",
       "              user                                               text  \n",
       "0         achitnis              @aarthir Ah! Thanks for reminding me   \n",
       "1      thisisjodez                                         is SAD!!    \n",
       "2  LianeGentrySkye  @TheresaStevens  Trey had a great time at the ...  \n",
       "3       Nicola2012  @KidROO fine francis  i want to be out in this...  \n",
       "4          lizz_xx  @sarahz_xx did you get the sunnies ? idk if yo...  \n",
       "5        drew91205                             guess im single again   \n",
       "6            _jas_                      still has more chores to do.   \n",
       "7      gidiboy4eva  @ OfficialRihanna  i gotta say you where looki...  \n",
       "8         carekoba   @dawnieboi i miss you!  di kita naabutan online!  \n",
       "9  CinnamonRoyalty                                          Off work   "
      ]
     },
     "execution_count": 11,
     "metadata": {},
     "output_type": "execute_result"
    }
   ],
   "source": [
    "# Shuffle data so that the positive and negative sentiments are randomly arranged\n",
    "df = df.sample(frac=1).reset_index(drop=True)\n",
    "df.head(10)"
   ]
  },
  {
   "cell_type": "code",
   "execution_count": 12,
   "metadata": {},
   "outputs": [],
   "source": [
    "# Replacing the values for better understanding\n",
    "df[\"sentiment\"] = df[\"sentiment\"].replace(4,1)"
   ]
  },
  {
   "cell_type": "code",
   "execution_count": 13,
   "metadata": {},
   "outputs": [
    {
     "name": "stdout",
     "output_type": "stream",
     "text": [
      "(1600000, 6)\n",
      "(1600000, 6)\n"
     ]
    }
   ],
   "source": [
    "# Drop duplicates, if any\n",
    "print(df.shape)\n",
    "print(df.drop_duplicates().shape)"
   ]
  },
  {
   "cell_type": "markdown",
   "metadata": {},
   "source": [
    "**Note:**\n",
    "- The dataset has the same shape both before and after the drop_duplicates function.\n",
    "- This suggests that there are no tweets with exactly the same information from exactly the same users on exactly the same dates."
   ]
  },
  {
   "cell_type": "code",
   "execution_count": 14,
   "metadata": {},
   "outputs": [
    {
     "data": {
      "text/plain": [
       "1    800000\n",
       "0    800000\n",
       "Name: sentiment, dtype: int64"
      ]
     },
     "execution_count": 14,
     "metadata": {},
     "output_type": "execute_result"
    }
   ],
   "source": [
    "# Check for any skew in the values for the sentiments\n",
    "df.sentiment.value_counts()"
   ]
  },
  {
   "cell_type": "markdown",
   "metadata": {},
   "source": [
    "**Note:**\n",
    "- The sentiments are perfectly split into both classes.\n",
    "- There is no skew."
   ]
  },
  {
   "cell_type": "code",
   "execution_count": 15,
   "metadata": {},
   "outputs": [
    {
     "data": {
      "text/html": [
       "<div>\n",
       "<style scoped>\n",
       "    .dataframe tbody tr th:only-of-type {\n",
       "        vertical-align: middle;\n",
       "    }\n",
       "\n",
       "    .dataframe tbody tr th {\n",
       "        vertical-align: top;\n",
       "    }\n",
       "\n",
       "    .dataframe thead th {\n",
       "        text-align: right;\n",
       "    }\n",
       "</style>\n",
       "<table border=\"1\" class=\"dataframe\">\n",
       "  <thead>\n",
       "    <tr style=\"text-align: right;\">\n",
       "      <th></th>\n",
       "      <th>sentiment</th>\n",
       "      <th>ids</th>\n",
       "      <th>date</th>\n",
       "      <th>flag</th>\n",
       "      <th>user</th>\n",
       "      <th>text</th>\n",
       "    </tr>\n",
       "  </thead>\n",
       "  <tbody>\n",
       "    <tr>\n",
       "      <th>0</th>\n",
       "      <td>1</td>\n",
       "      <td>2051222175</td>\n",
       "      <td>Fri Jun 05 21:11:49 PDT 2009</td>\n",
       "      <td>NO_QUERY</td>\n",
       "      <td>achitnis</td>\n",
       "      <td>@aarthir Ah! Thanks for reminding me</td>\n",
       "    </tr>\n",
       "    <tr>\n",
       "      <th>1</th>\n",
       "      <td>0</td>\n",
       "      <td>2000976262</td>\n",
       "      <td>Mon Jun 01 23:29:07 PDT 2009</td>\n",
       "      <td>NO_QUERY</td>\n",
       "      <td>thisisjodez</td>\n",
       "      <td>is SAD!!</td>\n",
       "    </tr>\n",
       "    <tr>\n",
       "      <th>2</th>\n",
       "      <td>1</td>\n",
       "      <td>2060580388</td>\n",
       "      <td>Sat Jun 06 19:10:24 PDT 2009</td>\n",
       "      <td>NO_QUERY</td>\n",
       "      <td>LianeGentrySkye</td>\n",
       "      <td>@TheresaStevens  Trey had a great time at the ...</td>\n",
       "    </tr>\n",
       "    <tr>\n",
       "      <th>3</th>\n",
       "      <td>1</td>\n",
       "      <td>1881329199</td>\n",
       "      <td>Fri May 22 04:20:21 PDT 2009</td>\n",
       "      <td>NO_QUERY</td>\n",
       "      <td>Nicola2012</td>\n",
       "      <td>@KidROO fine francis  i want to be out in this...</td>\n",
       "    </tr>\n",
       "    <tr>\n",
       "      <th>4</th>\n",
       "      <td>0</td>\n",
       "      <td>2013970142</td>\n",
       "      <td>Wed Jun 03 00:05:10 PDT 2009</td>\n",
       "      <td>NO_QUERY</td>\n",
       "      <td>lizz_xx</td>\n",
       "      <td>@sarahz_xx did you get the sunnies ? idk if yo...</td>\n",
       "    </tr>\n",
       "  </tbody>\n",
       "</table>\n",
       "</div>"
      ],
      "text/plain": [
       "   sentiment         ids                          date      flag  \\\n",
       "0          1  2051222175  Fri Jun 05 21:11:49 PDT 2009  NO_QUERY   \n",
       "1          0  2000976262  Mon Jun 01 23:29:07 PDT 2009  NO_QUERY   \n",
       "2          1  2060580388  Sat Jun 06 19:10:24 PDT 2009  NO_QUERY   \n",
       "3          1  1881329199  Fri May 22 04:20:21 PDT 2009  NO_QUERY   \n",
       "4          0  2013970142  Wed Jun 03 00:05:10 PDT 2009  NO_QUERY   \n",
       "\n",
       "              user                                               text  \n",
       "0         achitnis              @aarthir Ah! Thanks for reminding me   \n",
       "1      thisisjodez                                         is SAD!!    \n",
       "2  LianeGentrySkye  @TheresaStevens  Trey had a great time at the ...  \n",
       "3       Nicola2012  @KidROO fine francis  i want to be out in this...  \n",
       "4          lizz_xx  @sarahz_xx did you get the sunnies ? idk if yo...  "
      ]
     },
     "execution_count": 15,
     "metadata": {},
     "output_type": "execute_result"
    }
   ],
   "source": [
    "df.head()"
   ]
  },
  {
   "cell_type": "code",
   "execution_count": 16,
   "metadata": {},
   "outputs": [],
   "source": [
    "# Decontract all contractions in the text column\n",
    "df[\"text\"] = df[\"text\"].apply(decontracted_all)"
   ]
  },
  {
   "cell_type": "code",
   "execution_count": 17,
   "metadata": {},
   "outputs": [
    {
     "data": {
      "text/html": [
       "<div>\n",
       "<style scoped>\n",
       "    .dataframe tbody tr th:only-of-type {\n",
       "        vertical-align: middle;\n",
       "    }\n",
       "\n",
       "    .dataframe tbody tr th {\n",
       "        vertical-align: top;\n",
       "    }\n",
       "\n",
       "    .dataframe thead th {\n",
       "        text-align: right;\n",
       "    }\n",
       "</style>\n",
       "<table border=\"1\" class=\"dataframe\">\n",
       "  <thead>\n",
       "    <tr style=\"text-align: right;\">\n",
       "      <th></th>\n",
       "      <th>sentiment</th>\n",
       "      <th>ids</th>\n",
       "      <th>date</th>\n",
       "      <th>flag</th>\n",
       "      <th>user</th>\n",
       "      <th>text</th>\n",
       "    </tr>\n",
       "  </thead>\n",
       "  <tbody>\n",
       "    <tr>\n",
       "      <th>0</th>\n",
       "      <td>1</td>\n",
       "      <td>2051222175</td>\n",
       "      <td>Fri Jun 05 21:11:49 PDT 2009</td>\n",
       "      <td>NO_QUERY</td>\n",
       "      <td>achitnis</td>\n",
       "      <td>@aarthir Ah! Thanks for reminding me</td>\n",
       "    </tr>\n",
       "    <tr>\n",
       "      <th>1</th>\n",
       "      <td>0</td>\n",
       "      <td>2000976262</td>\n",
       "      <td>Mon Jun 01 23:29:07 PDT 2009</td>\n",
       "      <td>NO_QUERY</td>\n",
       "      <td>thisisjodez</td>\n",
       "      <td>is SAD!!</td>\n",
       "    </tr>\n",
       "    <tr>\n",
       "      <th>2</th>\n",
       "      <td>1</td>\n",
       "      <td>2060580388</td>\n",
       "      <td>Sat Jun 06 19:10:24 PDT 2009</td>\n",
       "      <td>NO_QUERY</td>\n",
       "      <td>LianeGentrySkye</td>\n",
       "      <td>@TheresaStevens  Trey had a great time at the ...</td>\n",
       "    </tr>\n",
       "    <tr>\n",
       "      <th>3</th>\n",
       "      <td>1</td>\n",
       "      <td>1881329199</td>\n",
       "      <td>Fri May 22 04:20:21 PDT 2009</td>\n",
       "      <td>NO_QUERY</td>\n",
       "      <td>Nicola2012</td>\n",
       "      <td>@KidROO fine francis  i want to be out in this...</td>\n",
       "    </tr>\n",
       "    <tr>\n",
       "      <th>4</th>\n",
       "      <td>0</td>\n",
       "      <td>2013970142</td>\n",
       "      <td>Wed Jun 03 00:05:10 PDT 2009</td>\n",
       "      <td>NO_QUERY</td>\n",
       "      <td>lizz_xx</td>\n",
       "      <td>@sarahz_xx did you get the sunnies ? idk if yo...</td>\n",
       "    </tr>\n",
       "  </tbody>\n",
       "</table>\n",
       "</div>"
      ],
      "text/plain": [
       "   sentiment         ids                          date      flag  \\\n",
       "0          1  2051222175  Fri Jun 05 21:11:49 PDT 2009  NO_QUERY   \n",
       "1          0  2000976262  Mon Jun 01 23:29:07 PDT 2009  NO_QUERY   \n",
       "2          1  2060580388  Sat Jun 06 19:10:24 PDT 2009  NO_QUERY   \n",
       "3          1  1881329199  Fri May 22 04:20:21 PDT 2009  NO_QUERY   \n",
       "4          0  2013970142  Wed Jun 03 00:05:10 PDT 2009  NO_QUERY   \n",
       "\n",
       "              user                                               text  \n",
       "0         achitnis              @aarthir Ah! Thanks for reminding me   \n",
       "1      thisisjodez                                         is SAD!!    \n",
       "2  LianeGentrySkye  @TheresaStevens  Trey had a great time at the ...  \n",
       "3       Nicola2012  @KidROO fine francis  i want to be out in this...  \n",
       "4          lizz_xx  @sarahz_xx did you get the sunnies ? idk if yo...  "
      ]
     },
     "execution_count": 17,
     "metadata": {},
     "output_type": "execute_result"
    }
   ],
   "source": [
    "df.head()"
   ]
  },
  {
   "cell_type": "code",
   "execution_count": 18,
   "metadata": {
    "_cell_guid": "79c7e3d0-c299-4dcb-8224-4455121ee9b0",
    "_uuid": "d629ff2d2480ee46fbb7e2d37f6b5fab8052498a"
   },
   "outputs": [
    {
     "data": {
      "text/plain": [
       "[Text(0, 0, 'Negative'), Text(1, 0, 'Positive')]"
      ]
     },
     "execution_count": 18,
     "metadata": {},
     "output_type": "execute_result"
    },
    {
     "data": {
      "image/png": "[encoded data removed]",
      "text/plain": [
       "<Figure size 640x480 with 1 Axes>"
      ]
     },
     "metadata": {},
     "output_type": "display_data"
    }
   ],
   "source": [
    "# Removing the unnecessary columns\n",
    "df = df[[\"sentiment\", \"text\"]]\n",
    "# Plotting the distribution for sentiment count\n",
    "ax = df.groupby(\"sentiment\").count().plot(kind=\"bar\", title=\"Distribution of data\", legend=False)\n",
    "ax.set_xticklabels([\"Negative\",\"Positive\"], rotation=0)"
   ]
  },
  {
   "cell_type": "markdown",
   "metadata": {},
   "source": [
    "## Data wrangling\n",
    "- Data wrangling in Natural Language Processing (NLP) largely involvesText Processing.\n",
    "- Text Processing transforms text into a more pliable form for machine learning algorithms.\n",
    "\n",
    "**The data wrangling steps taken are:**\n",
    "1. Lower casing\n",
    "2. Replacing URLs with the word \"URL\"\n",
    "3. Replacing emojis eg: converting :) to EMOJIsmile\n",
    "4. Replacing usernames with word \"USER\"\n",
    "5. Replacing non-alphanumeric characters with a space\n",
    "6. Removing consecutive letters eg:\"Heyyyy\" to \"Heyy\"\n",
    "7. Lemmatization\n",
    "\n",
    "**Note:**\n",
    "- The removal of stop words is optionally available and commented out in the code below.\n",
    "- Model tuning suggested that accuracy was worsened by the removal of stop words.\n",
    "    - This is because stop words include words that indicate negation (eg can't, wouldn't, not, don't etc) which strongly affect sentiment.\n",
    "- Consequently, I have opted to leave them **in** the corpus."
   ]
  },
  {
   "cell_type": "code",
   "execution_count": 19,
   "metadata": {},
   "outputs": [],
   "source": [
    "# Mapping of all emojis with their meanings\n",
    "emojis = {\":)\":\"smile\", \":-)\":\"smile\", \";d\":\"wink\", \":-E\":\"vampire\", \":(\":\"sad\", \n",
    "          \":-(\":\"sad\", \":-<\":\"sad\", \":P\":\"raspberry\", \":O\":\"surprised\",\n",
    "          \":-@\":\"shocked\", \":@\":\"shocked\", \":-$\":\"confused\", \":\\\\\":\"annoyed\", \n",
    "          \":#\":\"mute\", \":X\":\"mute\", \":^)\":\"smile\", \":-&\":\"confused\", \"$_$\":\"greedy\",\n",
    "          \"@@\":\"eyeroll\", \":-!\":\"confused\", \":-D\":\"smile\", \":-0\":\"yell\", \"O.o\":\"confused\",\n",
    "          \"<(-_-)>\":\"robot\", \"d[-_-]b\":\"dj\", \":'-)\":\"sadsmile\", \";)\":\"wink\", \n",
    "          \";-)\":\"wink\", \"O:-)\":\"angel\",\"O*-)\":\"angel\",\"(:-D\":\"gossip\", \"=^.^=\":\"cat\"}\n",
    "# Stopwords\n",
    "stopwords = nltk.corpus.stopwords.words(\"english\")"
   ]
  },
  {
   "cell_type": "code",
   "execution_count": 20,
   "metadata": {},
   "outputs": [],
   "source": [
    "# Function that carries out all pre-processing steps\n",
    "def preprocess(text_data):\n",
    "    processed_text = []\n",
    "    # Create lemmatizer\n",
    "    word_lemm = WordNetLemmatizer()\n",
    "    # Defining regex patterns\n",
    "    url_pattern = r\"((http://)[^ ]*|(https://)[^ ]*|(www.)[^ ]*)\"\n",
    "    user_pattern = r\"@[^\\s]+\"\n",
    "    alpha_pattern = r\"[^a-zA-Z0-9]\"\n",
    "    sequence_pattern = r\"(.)\\1\\1+\"\n",
    "    seq_replace_pattern = r\"\\1\\1\"\n",
    "    # Cleaning\n",
    "    for tweet in text_data:\n",
    "        # Lower case\n",
    "        tweet = tweet.lower()\n",
    "        # Replace all URls with \"URL\"\n",
    "        tweet = re.sub(url_pattern, \"URL\", tweet)\n",
    "        # Replace all emojis\n",
    "        for emoji in emojis.keys():\n",
    "            tweet = tweet.replace(emoji, \"EMOJI\" + emojis[emoji])        \n",
    "        # Replace @USERNAME with \"USER\"\n",
    "        tweet = re.sub(user_pattern, \"USER\", tweet)       \n",
    "        # Replace all non-alphanumeric characters\n",
    "        tweet = re.sub(alpha_pattern, \" \", tweet)\n",
    "        # Replace 3 or more consecutive letters by 2 letters\n",
    "        tweet = re.sub(sequence_pattern, seq_replace_pattern, tweet)\n",
    "        # Lemmatizing\n",
    "        words = tweet.split()\n",
    "        words_cleaned = []\n",
    "        \n",
    "        for word in words:\n",
    "            words_cleaned.append(word_lemm.lemmatize(word))\n",
    "        \n",
    "        # # OPTIONAL - Stop word removal\n",
    "        # words_cleaned = [i for i in words_cleaned if i not in stopwords]\n",
    "        \n",
    "        # Re-combination\n",
    "        processed_text.append(\" \".join(words_cleaned))\n",
    "    \n",
    "    return processed_text"
   ]
  },
  {
   "cell_type": "code",
   "execution_count": 21,
   "metadata": {},
   "outputs": [
    {
     "name": "stdout",
     "output_type": "stream",
     "text": [
      "Time Taken: 120 seconds.\n"
     ]
    }
   ],
   "source": [
    "# Timing\n",
    "start = time.time()\n",
    "processedtext = preprocess(df[\"text\"])\n",
    "print(f\"Time Taken: {round(time.time() - start)} seconds.\")"
   ]
  },
  {
   "cell_type": "markdown",
   "metadata": {},
   "source": [
    "## EDA"
   ]
  },
  {
   "cell_type": "code",
   "execution_count": 22,
   "metadata": {},
   "outputs": [
    {
     "data": {
      "text/plain": [
       "array(['is SAD!!  ',\n",
       "       '@sarahz_xx did you get the sunnies ? idk if you could hear me properly on the phone haha.. i has a sore throat ',\n",
       "       'guess im single again ', ...,\n",
       "       '@shermaineee ME TOO  !! ugh but no choice. I had my fair share of afternoon classes and squeezing into peak hour trains. H8 H8 H8',\n",
       "       'Too warm to cook anything warm. I might just have rolls+coldmeat+crisps for dinner. SO. WARM. ',\n",
       "       \"had forgotten it was the Harbourside estival this weekend. Do not think we'l be going in this rain \"],\n",
       "      dtype=object)"
      ]
     },
     "execution_count": 22,
     "metadata": {},
     "output_type": "execute_result"
    }
   ],
   "source": [
    "df[\"text\"][df[\"sentiment\"]==0].values"
   ]
  },
  {
   "cell_type": "code",
   "execution_count": 23,
   "metadata": {},
   "outputs": [],
   "source": [
    "# Separate the negative and positive sentiment tweets\n",
    "text_negative = df[\"text\"][df[\"sentiment\"]==0].values\n",
    "text_positive = df[\"text\"][df[\"sentiment\"]==1].values"
   ]
  },
  {
   "cell_type": "markdown",
   "metadata": {},
   "source": [
    "### Word-cloud for negative tweets"
   ]
  },
  {
   "cell_type": "markdown",
   "metadata": {},
   "source": [
    "**Note:**\n",
    "- The wordcloud code below takes a significant amount of time to run due to the size of the dataset. The image was generated once, saved and then referenced in the notebook using markdown.\n",
    "- The code can be uncommented and re-run if needed"
   ]
  },
  {
   "cell_type": "code",
   "execution_count": 1,
   "metadata": {},
   "outputs": [],
   "source": [
    "# plt.figure(figsize=(20,20))\n",
    "# wc = WordCloud(max_words= 1000, width=1600, height=800, collocations=False).generate(\" \".join(text_negative))\n",
    "# plt.imshow(wc)\n",
    "# plt.show()"
   ]
  },
  {
   "cell_type": "markdown",
   "metadata": {},
   "source": [
    "![word cloud negative](data/word_cloud_negative.png)"
   ]
  },
  {
   "cell_type": "markdown",
   "metadata": {},
   "source": [
    "### Word-cloud for positive tweets"
   ]
  },
  {
   "cell_type": "markdown",
   "metadata": {},
   "source": [
    "**Note:**\n",
    "- The wordcloud code below takes a significant amount of time to run due to the size of the dataset. The image was generated once, saved and then referenced in the notebook using markdown.\n",
    "- The code can be uncommented and re-run if needed"
   ]
  },
  {
   "cell_type": "code",
   "execution_count": 2,
   "metadata": {},
   "outputs": [],
   "source": [
    "# plt.figure(figsize = (20, 20))\n",
    "# wc = WordCloud(max_words=1000 , width=1600 , height=800, collocations=False).generate(\" \".join(text_positive))\n",
    "# plt.imshow(wc)\n",
    "# plt.show()"
   ]
  },
  {
   "cell_type": "markdown",
   "metadata": {},
   "source": [
    "![word cloud positive](data/word_cloud_positive.png)"
   ]
  },
  {
   "cell_type": "markdown",
   "metadata": {},
   "source": [
    "## Pre-processing"
   ]
  },
  {
   "cell_type": "markdown",
   "metadata": {},
   "source": [
    "### Splitting the data"
   ]
  },
  {
   "cell_type": "code",
   "execution_count": 26,
   "metadata": {},
   "outputs": [],
   "source": [
    "sentiment = df[\"sentiment\"].values"
   ]
  },
  {
   "cell_type": "code",
   "execution_count": 27,
   "metadata": {},
   "outputs": [],
   "source": [
    "# Split data into training and test sets\n",
    "X_train, X_test, y_train, y_test = train_test_split(processedtext, sentiment, test_size=0.2,\n",
    "                                                    stratify=sentiment, random_state=123)"
   ]
  },
  {
   "cell_type": "code",
   "execution_count": 28,
   "metadata": {},
   "outputs": [
    {
     "name": "stdout",
     "output_type": "stream",
     "text": [
      "1280000\n",
      "320000\n",
      "1280000\n",
      "320000\n"
     ]
    }
   ],
   "source": [
    "print(len(X_train))\n",
    "print(len(X_test))\n",
    "print(len(y_train))\n",
    "print(len(y_test))"
   ]
  },
  {
   "cell_type": "markdown",
   "metadata": {},
   "source": [
    "### Transforming the data"
   ]
  },
  {
   "cell_type": "code",
   "execution_count": 29,
   "metadata": {},
   "outputs": [
    {
     "data": {
      "text/html": [
       "<style>#sk-container-id-1 {color: black;}#sk-container-id-1 pre{padding: 0;}#sk-container-id-1 div.sk-toggleable {background-color: white;}#sk-container-id-1 label.sk-toggleable__label {cursor: pointer;display: block;width: 100%;margin-bottom: 0;padding: 0.3em;box-sizing: border-box;text-align: center;}#sk-container-id-1 label.sk-toggleable__label-arrow:before {content: \"▸\";float: left;margin-right: 0.25em;color: #696969;}#sk-container-id-1 label.sk-toggleable__label-arrow:hover:before {color: black;}#sk-container-id-1 div.sk-estimator:hover label.sk-toggleable__label-arrow:before {color: black;}#sk-container-id-1 div.sk-toggleable__content {max-height: 0;max-width: 0;overflow: hidden;text-align: left;background-color: #f0f8ff;}#sk-container-id-1 div.sk-toggleable__content pre {margin: 0.2em;color: black;border-radius: 0.25em;background-color: #f0f8ff;}#sk-container-id-1 input.sk-toggleable__control:checked~div.sk-toggleable__content {max-height: 200px;max-width: 100%;overflow: auto;}#sk-container-id-1 input.sk-toggleable__control:checked~label.sk-toggleable__label-arrow:before {content: \"▾\";}#sk-container-id-1 div.sk-estimator input.sk-toggleable__control:checked~label.sk-toggleable__label {background-color: #d4ebff;}#sk-container-id-1 div.sk-label input.sk-toggleable__control:checked~label.sk-toggleable__label {background-color: #d4ebff;}#sk-container-id-1 input.sk-hidden--visually {border: 0;clip: rect(1px 1px 1px 1px);clip: rect(1px, 1px, 1px, 1px);height: 1px;margin: -1px;overflow: hidden;padding: 0;position: absolute;width: 1px;}#sk-container-id-1 div.sk-estimator {font-family: monospace;background-color: #f0f8ff;border: 1px dotted black;border-radius: 0.25em;box-sizing: border-box;margin-bottom: 0.5em;}#sk-container-id-1 div.sk-estimator:hover {background-color: #d4ebff;}#sk-container-id-1 div.sk-parallel-item::after {content: \"\";width: 100%;border-bottom: 1px solid gray;flex-grow: 1;}#sk-container-id-1 div.sk-label:hover label.sk-toggleable__label {background-color: #d4ebff;}#sk-container-id-1 div.sk-serial::before {content: \"\";position: absolute;border-left: 1px solid gray;box-sizing: border-box;top: 0;bottom: 0;left: 50%;z-index: 0;}#sk-container-id-1 div.sk-serial {display: flex;flex-direction: column;align-items: center;background-color: white;padding-right: 0.2em;padding-left: 0.2em;position: relative;}#sk-container-id-1 div.sk-item {position: relative;z-index: 1;}#sk-container-id-1 div.sk-parallel {display: flex;align-items: stretch;justify-content: center;background-color: white;position: relative;}#sk-container-id-1 div.sk-item::before, #sk-container-id-1 div.sk-parallel-item::before {content: \"\";position: absolute;border-left: 1px solid gray;box-sizing: border-box;top: 0;bottom: 0;left: 50%;z-index: -1;}#sk-container-id-1 div.sk-parallel-item {display: flex;flex-direction: column;z-index: 1;position: relative;background-color: white;}#sk-container-id-1 div.sk-parallel-item:first-child::after {align-self: flex-end;width: 50%;}#sk-container-id-1 div.sk-parallel-item:last-child::after {align-self: flex-start;width: 50%;}#sk-container-id-1 div.sk-parallel-item:only-child::after {width: 0;}#sk-container-id-1 div.sk-dashed-wrapped {border: 1px dashed gray;margin: 0 0.4em 0.5em 0.4em;box-sizing: border-box;padding-bottom: 0.4em;background-color: white;}#sk-container-id-1 div.sk-label label {font-family: monospace;font-weight: bold;display: inline-block;line-height: 1.2em;}#sk-container-id-1 div.sk-label-container {text-align: center;}#sk-container-id-1 div.sk-container {/* jupyter's `normalize.less` sets `[hidden] { display: none; }` but bootstrap.min.css set `[hidden] { display: none !important; }` so we also need the `!important` here to be able to override the default hidden behavior on the sphinx rendered scikit-learn.org. See: https://github.com/scikit-learn/scikit-learn/issues/21755 */display: inline-block !important;position: relative;}#sk-container-id-1 div.sk-text-repr-fallback {display: none;}</style><div id=\"sk-container-id-1\" class=\"sk-top-container\"><div class=\"sk-text-repr-fallback\"><pre>TfidfVectorizer(max_features=500000, ngram_range=(1, 2))</pre><b>In a Jupyter environment, please rerun this cell to show the HTML representation or trust the notebook. <br />On GitHub, the HTML representation is unable to render, please try loading this page with nbviewer.org.</b></div><div class=\"sk-container\" hidden><div class=\"sk-item\"><div class=\"sk-estimator sk-toggleable\"><input class=\"sk-toggleable__control sk-hidden--visually\" id=\"sk-estimator-id-1\" type=\"checkbox\" checked><label for=\"sk-estimator-id-1\" class=\"sk-toggleable__label sk-toggleable__label-arrow\">TfidfVectorizer</label><div class=\"sk-toggleable__content\"><pre>TfidfVectorizer(max_features=500000, ngram_range=(1, 2))</pre></div></div></div></div></div>"
      ],
      "text/plain": [
       "TfidfVectorizer(max_features=500000, ngram_range=(1, 2))"
      ]
     },
     "execution_count": 29,
     "metadata": {},
     "output_type": "execute_result"
    }
   ],
   "source": [
    "# Use the tfidfvectorizer\n",
    "vectorizer = TfidfVectorizer(ngram_range=(1,2), max_features=500000)\n",
    "vectorizer.fit(X_train)"
   ]
  },
  {
   "cell_type": "markdown",
   "metadata": {},
   "source": [
    "**NOTE:**\n",
    "- We set `ngram_range` to (1,2) meaning we ue single words as well as bi-grams in our model."
   ]
  },
  {
   "cell_type": "code",
   "execution_count": 30,
   "metadata": {},
   "outputs": [
    {
     "name": "stdout",
     "output_type": "stream",
     "text": [
      "No. of feature_words:  500000\n"
     ]
    }
   ],
   "source": [
    "print(\"No. of feature_words: \", len(vectorizer.get_feature_names_out()))"
   ]
  },
  {
   "cell_type": "code",
   "execution_count": 31,
   "metadata": {},
   "outputs": [],
   "source": [
    "X_train = vectorizer.transform(X_train)\n",
    "X_test = vectorizer.transform(X_test)"
   ]
  },
  {
   "cell_type": "code",
   "execution_count": 32,
   "metadata": {},
   "outputs": [
    {
     "name": "stdout",
     "output_type": "stream",
     "text": [
      "(1280000, 500000)\n",
      "(320000, 500000)\n",
      "(1280000,)\n",
      "(320000,)\n"
     ]
    }
   ],
   "source": [
    "print(X_train.shape)\n",
    "print(X_test.shape)\n",
    "print(y_train.shape)\n",
    "print(y_test.shape)"
   ]
  },
  {
   "cell_type": "markdown",
   "metadata": {},
   "source": [
    "**NOTE:**\n",
    "- **Tf-idf** or **Term Frequency Inverse Document Frequency** will weight the words according to their importance in the corpus.\n",
    "- Words that are frequent in one document but not in the corpus as a whole will be weighted favorably over words that are common to all documents."
   ]
  },
  {
   "cell_type": "markdown",
   "metadata": {},
   "source": [
    "## Saving data, vectorizer and models"
   ]
  },
  {
   "cell_type": "code",
   "execution_count": 33,
   "metadata": {},
   "outputs": [],
   "source": [
    "file = open(\"models/vectorizer.pickle\",\"wb\")\n",
    "pickle.dump(vectorizer, file)\n",
    "file.close()\n",
    "\n",
    "file = open(\"models/X_train.pickle\",\"wb\")\n",
    "pickle.dump(X_train, file)\n",
    "file.close()\n",
    "\n",
    "file = open(\"models/X_test.pickle\",\"wb\")\n",
    "pickle.dump(X_test, file)\n",
    "file.close()\n",
    "\n",
    "file = open(\"models/y_train.pickle\",\"wb\")\n",
    "pickle.dump(y_train, file)\n",
    "file.close()\n",
    "\n",
    "file = open(\"models/y_test.pickle\",\"wb\")\n",
    "pickle.dump(y_test, file)\n",
    "file.close()\n",
    "\n",
    "file = open(\"models/processedtext.pickle\",\"wb\")\n",
    "pickle.dump(processedtext, file)\n",
    "file.close()\n",
    "\n",
    "file = open(\"models/df_pre_modeling.pickle\",\"wb\")\n",
    "pickle.dump(df, file)\n",
    "file.close()"
   ]
  },
  {
   "cell_type": "markdown",
   "metadata": {},
   "source": [
    "## Next steps\n",
    "\n",
    "**Note:**\n",
    "- The dataset is very large and many steps in this notebook can be time consuming to run.\n",
    "- To keep the flow of information palatable and legible, this project has been split into three notebooks\n",
    "    - Part 2-1 and Part 2-2 are contained with the same project folder as this Part 1.\n",
    "    - See https://github.com/Daolaiya/Data-Science-Portfolio/tree/main/Project%203\n",
    "    - Please run them one at a time and in order."
   ]
  }
 ],
 "metadata": {
  "kernelspec": {
   "display_name": "Python 3 (ipykernel)",
   "language": "python",
   "name": "python3"
  },
  "language_info": {
   "codemirror_mode": {
    "name": "ipython",
    "version": 3
   },
   "file_extension": ".py",
   "mimetype": "text/x-python",
   "name": "python",
   "nbconvert_exporter": "python",
   "pygments_lexer": "ipython3",
   "version": "3.10.11"
  },
  "toc": {
   "base_numbering": 1,
   "nav_menu": {},
   "number_sections": true,
   "sideBar": true,
   "skip_h1_title": true,
   "title_cell": "Table of Contents",
   "title_sidebar": "Contents",
   "toc_cell": false,
   "toc_position": {
    "height": "calc(100% - 180px)",
    "left": "10px",
    "top": "150px",
    "width": "267px"
   },
   "toc_section_display": true,
   "toc_window_display": true
  },
  "varInspector": {
   "cols": {
    "lenName": 16,
    "lenType": 16,
    "lenVar": 40
   },
   "kernels_config": {
    "python": {
     "delete_cmd_postfix": "",
     "delete_cmd_prefix": "del ",
     "library": "var_list.py",
     "varRefreshCmd": "print(var_dic_list())"
    },
    "r": {
     "delete_cmd_postfix": ") ",
     "delete_cmd_prefix": "rm(",
     "library": "var_list.r",
     "varRefreshCmd": "cat(var_dic_list()) "
    }
   },
   "types_to_exclude": [
    "module",
    "function",
    "builtin_function_or_method",
    "instance",
    "_Feature"
   ],
   "window_display": false
  }
 },
 "nbformat": 4,
 "nbformat_minor": 4
}
